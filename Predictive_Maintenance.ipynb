{
 "cells": [
  {
   "cell_type": "code",
   "execution_count": 1,
   "id": "26254eb2-094f-4250-bc8b-bc8b07791088",
   "metadata": {},
   "outputs": [
    {
     "name": "stdout",
     "output_type": "stream",
     "text": [
      " instalasi berhasil\n"
     ]
    }
   ],
   "source": [
    "import pandas as pd\n",
    "import numpy as np\n",
    "import matplotlib.pyplot as plt\n",
    "import seaborn as sns\n",
    "from sqlalchemy import create_engine\n",
    "print(\" instalasi berhasil\")"
   ]
  },
  {
   "cell_type": "code",
   "execution_count": 2,
   "id": "36790b3d-2ec4-471b-94d6-21691729b350",
   "metadata": {},
   "outputs": [
    {
     "name": "stdout",
     "output_type": "stream",
     "text": [
      "Dataset sudah tersimpan di SQLite (maintenance.db)\n"
     ]
    }
   ],
   "source": [
    "# Buat datase baru dan simpan ke SQLite\n",
    "\n",
    "# Koneksi ke SQLite\n",
    "engine = create_engine(\"sqlite:///maintenance.db\")\n",
    "# Load/Read data\n",
    "df = pd.read_csv(\"machine_failure.csv\")\n",
    "# Simpan dataset ke tabel SQLite\n",
    "df.to_sql(\"maintenance\", engine, if_exists=\"replace\", index=False) # Kesalahan sintaks(kurang variabel \"conn\")\n",
    "print(\"Dataset sudah tersimpan di SQLite (maintenance.db)\")\n",
    "\n",
    "\n"
   ]
  },
  {
   "cell_type": "code",
   "execution_count": 6,
   "id": "6545671b-e39e-44fd-8866-ef9d8af0f48b",
   "metadata": {},
   "outputs": [
    {
     "name": "stdout",
     "output_type": "stream",
     "text": [
      "Daftar tabel:               name\n",
      "0      maintenance\n",
      "1  machine_failure\n"
     ]
    }
   ],
   "source": [
    "import sqlite3\n",
    "# 1. Load dataset dari CSV\n",
    "df = pd.read_csv(r\"machine_failure.csv\")  # ganti path sesuai lokasi file\n",
    "\n",
    "# 2. Koneksi ke SQLite\n",
    "conn = sqlite3.connect(\"maintenance.db\")\n",
    "\n",
    "# 3. Simpan ke tabel machine_failure\n",
    "df.to_sql(\"machine_failure\", conn, if_exists=\"replace\", index=False)\n",
    "\n",
    "# 4. Cek tabel\n",
    "tables = pd.read_sql(\"SELECT name FROM sqlite_master WHERE type='table';\", conn)\n",
    "print(\"Daftar tabel:\", tables)\n",
    "\n",
    "# 5. Cek 5 baris pertama\n",
    "df_check = pd.read_sql(\"SELECT * FROM machine_failure LIMIT 5;\", conn)\n",
    "df_check\n",
    "\n",
    "conn.close()"
   ]
  },
  {
   "cell_type": "code",
   "execution_count": 7,
   "id": "f3bec56b-1608-46a7-9c51-d7093eda1f97",
   "metadata": {},
   "outputs": [
    {
     "name": "stdout",
     "output_type": "stream",
     "text": [
      "Daftar Tabel:               name\n",
      "0      maintenance\n",
      "1  machine_failure\n",
      "5 Baris Datase:    UDI Product ID Type  Air temperature [K]  Process temperature [K]  \\\n",
      "0    1     M14860    M                298.1                    308.6   \n",
      "1    2     L47181    L                298.2                    308.7   \n",
      "2    3     L47182    L                298.1                    308.5   \n",
      "3    4     L47183    L                298.2                    308.6   \n",
      "4    5     L47184    L                298.2                    308.7   \n",
      "\n",
      "   Rotational speed [rpm]  Torque [Nm]  Tool wear [min]  Machine failure  TWF  \\\n",
      "0                    1551         42.8                0                0    0   \n",
      "1                    1408         46.3                3                0    0   \n",
      "2                    1498         49.4                5                0    0   \n",
      "3                    1433         39.5                7                0    0   \n",
      "4                    1408         40.0                9                0    0   \n",
      "\n",
      "   HDF  PWF  OSF  RNF  \n",
      "0    0    0    0    0  \n",
      "1    0    0    0    0  \n",
      "2    0    0    0    0  \n",
      "3    0    0    0    0  \n",
      "4    0    0    0    0  \n"
     ]
    }
   ],
   "source": [
    "# Verifikasi dataset\n",
    "conn = sqlite3.connect(\"maintenance.db\")\n",
    "# Tampilkan beberapa daftar tabel yang ada\n",
    "table = pd.read_sql(\"SELECT name FROM sqlite_master WHERE type='table';\", conn)\n",
    "print(\"Daftar Tabel:\", table)\n",
    "\n",
    "df_fiverows = pd.read_sql(\"SELECT * FROM machine_failure LIMIT 5;\", conn)\n",
    "print(\"5 Baris Datase:\", df_fiverows)\n",
    "\n",
    "# Tutup koneksi\n",
    "conn.close()"
   ]
  },
  {
   "cell_type": "code",
   "execution_count": 8,
   "id": "dbc16942-34b9-4928-8014-277332504c6d",
   "metadata": {},
   "outputs": [
    {
     "name": "stdout",
     "output_type": "stream",
     "text": [
      "Daftar tabel setelah di hapus:               name\n",
      "0  machine_failure\n"
     ]
    }
   ],
   "source": [
    "# Hapus tabel maintenance\n",
    "conn = sqlite3.connect(\"maintenance.db\")\n",
    "cursor = conn.cursor()\n",
    "\n",
    "cursor.execute(\"DROP TABLE IF EXISTS maintenance;\")\n",
    "conn.commit()\n",
    "\n",
    "tables = pd.read_sql(\"SELECT name FROM sqlite_master WHERE type='table';\", conn)\n",
    "print(\"Daftar tabel setelah di hapus:\", tables)"
   ]
  },
  {
   "cell_type": "code",
   "execution_count": 9,
   "id": "a2d18173-dd6a-492d-90a2-3c7a1eb33d2d",
   "metadata": {},
   "outputs": [
    {
     "name": "stdout",
     "output_type": "stream",
     "text": [
      "   total\n",
      "0  10000\n"
     ]
    }
   ],
   "source": [
    "# Cek/verifikasi akhir sebelum dihapus dari local device\n",
    "conn = sqlite3.connect(\"maintenance.db\")\n",
    "\n",
    "hitung = pd.read_sql(\"SELECT COUNT (*) as total FROM machine_failure;\", conn)\n",
    "print(hitung)\n"
   ]
  },
  {
   "cell_type": "code",
   "execution_count": 10,
   "id": "57f99841-ef52-48a9-9c90-a449ae6d92d5",
   "metadata": {},
   "outputs": [
    {
     "name": "stdout",
     "output_type": "stream",
     "text": [
      "Proses penarikan data ke Pandas Berhasil\n"
     ]
    }
   ],
   "source": [
    "conn = sqlite3.connect(\"maintenance.db\")\n",
    "\n",
    "df = pd.read_sql(\"SELECT * FROM machine_failure;\", conn)\n",
    "conn.close()\n",
    "print(\"Proses penarikan data ke Pandas Berhasil\")"
   ]
  },
  {
   "cell_type": "markdown",
   "id": "387e6ad0-2e0f-4af0-9744-f3c7461ddc17",
   "metadata": {},
   "source": [
    "# 🔍 Exploratory Data Analysis (EDA) untuk Predictive Maintenance\n",
    "\n",
    "EDA dilakukan untuk memahami pola data sebelum membuat model prediksi kegagalan mesin.  \n",
    "Berikut langkah-langkah penting dan relevan yang dilakukan:\n",
    "\n",
    "1. **Cek Struktur & Dimensi Data**  \n",
    "   - Pastikan jumlah baris & kolom sesuai harapan.  \n",
    "   - Identifikasi tipe data (numerik/kategorikal).\n",
    "   - Statistik data (mean, median, min, max, std).\n",
    "   - Proporsi kelas `failure` vs `non-failure`. Untuk identifikasi Imbalance data \n",
    "\n",
    "3. **Distribusi Variabel Utama**  \n",
    "   - Ringkasan nilai (mean, median, min, max, std).  \n",
    "   - Visualisasi distribusi variabel seperti `Torque`, `Rotational speed`, `Temperature`.  \n",
    "   - Tujuan: deteksi pola umum & potensi outlier.  \n",
    "\n",
    "4. **Korelasi antar Variabel**  \n",
    "   - Gunakan heatmap untuk melihat hubungan antar fitur numerik.  \n",
    "   - Tujuan: deteksi fitur redundan & yang paling berpengaruh pada kegagalan.  \n",
    "\n",
    "5. **Analisis Outlier**  \n",
    "   - Cek boxplot pada variabel penting (`Torque`, `Tool wear`).  \n",
    "   - Outlier bisa jadi indikasi potensi kegagalan atau error sensor.  \n",
    "\n",
    "6. **Analisis Fitur Kategorikal (Type Produk/Mesin)**  \n",
    "   - Cek distribusi kategori mesin (`Type`).  \n",
    "   - Tujuan: pastikan tidak ada kategori minor/aneh yang mengganggu model.  \n",
    "\n",
    "---\n",
    "\n",
    "✨ Dengan EDA ini, insight-nya:  \n",
    "- Memastikan kualitas data.  \n",
    "- Memahami pola awal penyebab kegagalan.  \n",
    "- Menentukan preprocessing & feature engineering yang tepat sebelum modeling.\n"
   ]
  },
  {
   "cell_type": "code",
   "execution_count": 21,
   "id": "09df11eb-a3d6-42e9-98e7-73918a49f8d8",
   "metadata": {},
   "outputs": [
    {
     "name": "stdout",
     "output_type": "stream",
     "text": [
      "<class 'pandas.core.frame.DataFrame'>\n",
      "RangeIndex: 10000 entries, 0 to 9999\n",
      "Data columns (total 14 columns):\n",
      " #   Column                   Non-Null Count  Dtype  \n",
      "---  ------                   --------------  -----  \n",
      " 0   UDI                      10000 non-null  int64  \n",
      " 1   Product ID               10000 non-null  object \n",
      " 2   Type                     10000 non-null  object \n",
      " 3   Air temperature [K]      10000 non-null  float64\n",
      " 4   Process temperature [K]  10000 non-null  float64\n",
      " 5   Rotational speed [rpm]   10000 non-null  int64  \n",
      " 6   Torque [Nm]              10000 non-null  float64\n",
      " 7   Tool wear [min]          10000 non-null  int64  \n",
      " 8   Machine failure          10000 non-null  int64  \n",
      " 9   TWF                      10000 non-null  int64  \n",
      " 10  HDF                      10000 non-null  int64  \n",
      " 11  PWF                      10000 non-null  int64  \n",
      " 12  OSF                      10000 non-null  int64  \n",
      " 13  RNF                      10000 non-null  int64  \n",
      "dtypes: float64(3), int64(9), object(2)\n",
      "memory usage: 1.1+ MB\n",
      "Informasi dataset: None\n",
      "Statistik data:                UDI  Air temperature [K]  Process temperature [K]  \\\n",
      "count  10000.00000         10000.000000             10000.000000   \n",
      "mean    5000.50000           300.004930               310.005560   \n",
      "std     2886.89568             2.000259                 1.483734   \n",
      "min        1.00000           295.300000               305.700000   \n",
      "25%     2500.75000           298.300000               308.800000   \n",
      "50%     5000.50000           300.100000               310.100000   \n",
      "75%     7500.25000           301.500000               311.100000   \n",
      "max    10000.00000           304.500000               313.800000   \n",
      "\n",
      "       Rotational speed [rpm]   Torque [Nm]  Tool wear [min]  Machine failure  \\\n",
      "count            10000.000000  10000.000000     10000.000000     10000.000000   \n",
      "mean              1538.776100     39.986910       107.951000         0.033900   \n",
      "std                179.284096      9.968934        63.654147         0.180981   \n",
      "min               1168.000000      3.800000         0.000000         0.000000   \n",
      "25%               1423.000000     33.200000        53.000000         0.000000   \n",
      "50%               1503.000000     40.100000       108.000000         0.000000   \n",
      "75%               1612.000000     46.800000       162.000000         0.000000   \n",
      "max               2886.000000     76.600000       253.000000         1.000000   \n",
      "\n",
      "                TWF           HDF           PWF           OSF          RNF  \n",
      "count  10000.000000  10000.000000  10000.000000  10000.000000  10000.00000  \n",
      "mean       0.004600      0.011500      0.009500      0.009800      0.00190  \n",
      "std        0.067671      0.106625      0.097009      0.098514      0.04355  \n",
      "min        0.000000      0.000000      0.000000      0.000000      0.00000  \n",
      "25%        0.000000      0.000000      0.000000      0.000000      0.00000  \n",
      "50%        0.000000      0.000000      0.000000      0.000000      0.00000  \n",
      "75%        0.000000      0.000000      0.000000      0.000000      0.00000  \n",
      "max        1.000000      1.000000      1.000000      1.000000      1.00000  \n",
      "Jumlah missing value: UDI                        0\n",
      "Product ID                 0\n",
      "Type                       0\n",
      "Air temperature [K]        0\n",
      "Process temperature [K]    0\n",
      "Rotational speed [rpm]     0\n",
      "Torque [Nm]                0\n",
      "Tool wear [min]            0\n",
      "Machine failure            0\n",
      "TWF                        0\n",
      "HDF                        0\n",
      "PWF                        0\n",
      "OSF                        0\n",
      "RNF                        0\n",
      "dtype: int64\n",
      "jumlah data dupliat: 0\n",
      "Dimenasi data (10000, 14)\n"
     ]
    }
   ],
   "source": [
    "\"\"\"\n",
    "1. **Cek Struktur & Dimensi Data**  \n",
    "   - Pastikan jumlah baris & kolom sesuai harapan.  \n",
    "   - Identifikasi tipe data (numerik/kategorikal).\n",
    "   - Statistik data\n",
    "   - Proporsi kelas `failure` vs `non-failure`. Untuk identifikasi Imbalance data \n",
    "\"\"\"\n",
    "info_data = df.info()\n",
    "desc_data = df.describe()\n",
    "miss_value = df.isnull().sum()\n",
    "duplikat = df.duplicated().sum()\n",
    "dimensi = df.shape\n",
    "\n",
    "print(\"Informasi dataset:\", info_data)\n",
    "print(\"Statistik data:\", desc_data)\n",
    "print(\"Jumlah missing value:\", miss_value)\n",
    "print(\"jumlah data dupliat:\", duplikat)\n",
    "print(\"Dimenasi data\", dimensi)"
   ]
  },
  {
   "cell_type": "code",
   "execution_count": 28,
   "id": "c638cbae-9b2e-42da-a2a5-592b86780ff9",
   "metadata": {},
   "outputs": [
    {
     "data": {
      "image/png": "[encoded data removed]",
      "text/plain": [
       "<Figure size 640x480 with 1 Axes>"
      ]
     },
     "metadata": {},
     "output_type": "display_data"
    }
   ],
   "source": [
    "df[\"Machine failure\"].value_counts().plot(kind=\"bar\")\n",
    "plt.title(\"Distribusi Target Machine Failure\")\n",
    "plt.xlabel(\"Kelas\")\n",
    "plt.ylabel(\"Jumlah Data\")\n",
    "plt.xticks([0, 1], [\"Normal (0)\", \"Failure (1)\"])\n",
    "plt.show()\n"
   ]
  },
  {
   "cell_type": "markdown",
   "id": "20874529-908e-4b9c-9b08-cdea472223c0",
   "metadata": {},
   "source": [
    "# 📊 Ringkasan EDA: Struktur & Dimensi Data\n",
    "\n",
    "**1. Dimensi Data**  \n",
    "- Jumlah baris: **10.000**  \n",
    "- Jumlah kolom: **14**  \n",
    "\n",
    "**2. Struktur & Tipe Data**  \n",
    "- Variabel numerik: 12 (integer & float).  \n",
    "- Variabel kategorikal: 2 (`Product ID`, `Type`).  \n",
    "- Target: `Machine failure` (biner: 0/1).  \n",
    "\n",
    "**3. Statistik Utama**  \n",
    "- Suhu udara: 295.3 – 304.5 K (rata-rata 300.0 K).  \n",
    "- Suhu proses: 305.7 – 313.8 K (rata-rata 310.0 K).  \n",
    "- Kecepatan rotasi: 1168 – 2886 rpm (rata-rata 1538 rpm).  \n",
    "- Torsi: 3.8 – 76.6 Nm (rata-rata 39.9 Nm).  \n",
    "- Tool wear: 0 – 253 menit (rata-rata 107 menit).  \n",
    "- Machine failure: hanya **3.39%** dari data → indikasi *class imbalance*.  \n",
    "\n",
    "**4. Kualitas Data**  \n",
    "- **Missing values:** Tidak ada.  \n",
    "- **Duplicate data:** Tidak ada.  \n",
    "\n",
    "---\n",
    "\n",
    "### 🎯 Insight Awal\n",
    "- Dataset cukup bersih (tidak ada missing atau duplikat).  \n",
    "- Variabel sensor (suhu, rpm, torsi, tool wear) memiliki rentang yang realistis.  \n",
    "- Target `Machine failure` sangat tidak seimbang → perlu penanganan imbalance (misalnya SMOTE atau class weight) sebelum modeling."
   ]
  },
  {
   "cell_type": "code",
   "execution_count": 32,
   "id": "e4581531-268b-4c93-87db-d05970ffca18",
   "metadata": {},
   "outputs": [
    {
     "ename": "ValueError",
     "evalue": "could not convert string to float: 'M14860'",
     "output_type": "error",
     "traceback": [
      "\u001b[1;31m---------------------------------------------------------------------------\u001b[0m",
      "\u001b[1;31mValueError\u001b[0m                                Traceback (most recent call last)",
      "Cell \u001b[1;32mIn[32], line 7\u001b[0m\n\u001b[0;32m      1\u001b[0m \u001b[38;5;124;03m\"\"\"\u001b[39;00m\n\u001b[0;32m      2\u001b[0m \u001b[38;5;124;03mEDA 2.\u001b[39;00m\n\u001b[0;32m      3\u001b[0m \u001b[38;5;124;03mKorelasi antar Variabel \u001b[39;00m\n\u001b[0;32m      4\u001b[0m \u001b[38;5;124;03m   - Gunakan heatmap untuk melihat hubungan antar fitur numerik.  \u001b[39;00m\n\u001b[0;32m      5\u001b[0m \u001b[38;5;124;03m   - Tujuan: deteksi fitur redundan & yang paling berpengaruh pada kegagalan. \u001b[39;00m\n\u001b[0;32m      6\u001b[0m \u001b[38;5;124;03m\"\"\"\u001b[39;00m\n\u001b[1;32m----> 7\u001b[0m sns\u001b[38;5;241m.\u001b[39mheatmap(\u001b[43mdf\u001b[49m\u001b[38;5;241;43m.\u001b[39;49m\u001b[43mcorr\u001b[49m\u001b[43m(\u001b[49m\u001b[43m)\u001b[49m, annot\u001b[38;5;241m=\u001b[39m\u001b[38;5;28;01mTrue\u001b[39;00m, cmap\u001b[38;5;241m=\u001b[39m\u001b[38;5;124m'\u001b[39m\u001b[38;5;124mcoolwarm\u001b[39m\u001b[38;5;124m'\u001b[39m)\n",
      "File \u001b[1;32m~\\miniconda3\\envs\\maint_pred\\lib\\site-packages\\pandas\\core\\frame.py:11056\u001b[0m, in \u001b[0;36mDataFrame.corr\u001b[1;34m(self, method, min_periods, numeric_only)\u001b[0m\n\u001b[0;32m  11054\u001b[0m cols \u001b[38;5;241m=\u001b[39m data\u001b[38;5;241m.\u001b[39mcolumns\n\u001b[0;32m  11055\u001b[0m idx \u001b[38;5;241m=\u001b[39m cols\u001b[38;5;241m.\u001b[39mcopy()\n\u001b[1;32m> 11056\u001b[0m mat \u001b[38;5;241m=\u001b[39m \u001b[43mdata\u001b[49m\u001b[38;5;241;43m.\u001b[39;49m\u001b[43mto_numpy\u001b[49m\u001b[43m(\u001b[49m\u001b[43mdtype\u001b[49m\u001b[38;5;241;43m=\u001b[39;49m\u001b[38;5;28;43mfloat\u001b[39;49m\u001b[43m,\u001b[49m\u001b[43m \u001b[49m\u001b[43mna_value\u001b[49m\u001b[38;5;241;43m=\u001b[39;49m\u001b[43mnp\u001b[49m\u001b[38;5;241;43m.\u001b[39;49m\u001b[43mnan\u001b[49m\u001b[43m,\u001b[49m\u001b[43m \u001b[49m\u001b[43mcopy\u001b[49m\u001b[38;5;241;43m=\u001b[39;49m\u001b[38;5;28;43;01mFalse\u001b[39;49;00m\u001b[43m)\u001b[49m\n\u001b[0;32m  11058\u001b[0m \u001b[38;5;28;01mif\u001b[39;00m method \u001b[38;5;241m==\u001b[39m \u001b[38;5;124m\"\u001b[39m\u001b[38;5;124mpearson\u001b[39m\u001b[38;5;124m\"\u001b[39m:\n\u001b[0;32m  11059\u001b[0m     correl \u001b[38;5;241m=\u001b[39m libalgos\u001b[38;5;241m.\u001b[39mnancorr(mat, minp\u001b[38;5;241m=\u001b[39mmin_periods)\n",
      "File \u001b[1;32m~\\miniconda3\\envs\\maint_pred\\lib\\site-packages\\pandas\\core\\frame.py:1998\u001b[0m, in \u001b[0;36mDataFrame.to_numpy\u001b[1;34m(self, dtype, copy, na_value)\u001b[0m\n\u001b[0;32m   1996\u001b[0m \u001b[38;5;28;01mif\u001b[39;00m dtype \u001b[38;5;129;01mis\u001b[39;00m \u001b[38;5;129;01mnot\u001b[39;00m \u001b[38;5;28;01mNone\u001b[39;00m:\n\u001b[0;32m   1997\u001b[0m     dtype \u001b[38;5;241m=\u001b[39m np\u001b[38;5;241m.\u001b[39mdtype(dtype)\n\u001b[1;32m-> 1998\u001b[0m result \u001b[38;5;241m=\u001b[39m \u001b[38;5;28;43mself\u001b[39;49m\u001b[38;5;241;43m.\u001b[39;49m\u001b[43m_mgr\u001b[49m\u001b[38;5;241;43m.\u001b[39;49m\u001b[43mas_array\u001b[49m\u001b[43m(\u001b[49m\u001b[43mdtype\u001b[49m\u001b[38;5;241;43m=\u001b[39;49m\u001b[43mdtype\u001b[49m\u001b[43m,\u001b[49m\u001b[43m \u001b[49m\u001b[43mcopy\u001b[49m\u001b[38;5;241;43m=\u001b[39;49m\u001b[43mcopy\u001b[49m\u001b[43m,\u001b[49m\u001b[43m \u001b[49m\u001b[43mna_value\u001b[49m\u001b[38;5;241;43m=\u001b[39;49m\u001b[43mna_value\u001b[49m\u001b[43m)\u001b[49m\n\u001b[0;32m   1999\u001b[0m \u001b[38;5;28;01mif\u001b[39;00m result\u001b[38;5;241m.\u001b[39mdtype \u001b[38;5;129;01mis\u001b[39;00m \u001b[38;5;129;01mnot\u001b[39;00m dtype:\n\u001b[0;32m   2000\u001b[0m     result \u001b[38;5;241m=\u001b[39m np\u001b[38;5;241m.\u001b[39masarray(result, dtype\u001b[38;5;241m=\u001b[39mdtype)\n",
      "File \u001b[1;32m~\\miniconda3\\envs\\maint_pred\\lib\\site-packages\\pandas\\core\\internals\\managers.py:1694\u001b[0m, in \u001b[0;36mBlockManager.as_array\u001b[1;34m(self, dtype, copy, na_value)\u001b[0m\n\u001b[0;32m   1692\u001b[0m         arr\u001b[38;5;241m.\u001b[39mflags\u001b[38;5;241m.\u001b[39mwriteable \u001b[38;5;241m=\u001b[39m \u001b[38;5;28;01mFalse\u001b[39;00m\n\u001b[0;32m   1693\u001b[0m \u001b[38;5;28;01melse\u001b[39;00m:\n\u001b[1;32m-> 1694\u001b[0m     arr \u001b[38;5;241m=\u001b[39m \u001b[38;5;28;43mself\u001b[39;49m\u001b[38;5;241;43m.\u001b[39;49m\u001b[43m_interleave\u001b[49m\u001b[43m(\u001b[49m\u001b[43mdtype\u001b[49m\u001b[38;5;241;43m=\u001b[39;49m\u001b[43mdtype\u001b[49m\u001b[43m,\u001b[49m\u001b[43m \u001b[49m\u001b[43mna_value\u001b[49m\u001b[38;5;241;43m=\u001b[39;49m\u001b[43mna_value\u001b[49m\u001b[43m)\u001b[49m\n\u001b[0;32m   1695\u001b[0m     \u001b[38;5;66;03m# The underlying data was copied within _interleave, so no need\u001b[39;00m\n\u001b[0;32m   1696\u001b[0m     \u001b[38;5;66;03m# to further copy if copy=True or setting na_value\u001b[39;00m\n\u001b[0;32m   1698\u001b[0m \u001b[38;5;28;01mif\u001b[39;00m na_value \u001b[38;5;129;01mis\u001b[39;00m lib\u001b[38;5;241m.\u001b[39mno_default:\n",
      "File \u001b[1;32m~\\miniconda3\\envs\\maint_pred\\lib\\site-packages\\pandas\\core\\internals\\managers.py:1753\u001b[0m, in \u001b[0;36mBlockManager._interleave\u001b[1;34m(self, dtype, na_value)\u001b[0m\n\u001b[0;32m   1751\u001b[0m     \u001b[38;5;28;01melse\u001b[39;00m:\n\u001b[0;32m   1752\u001b[0m         arr \u001b[38;5;241m=\u001b[39m blk\u001b[38;5;241m.\u001b[39mget_values(dtype)\n\u001b[1;32m-> 1753\u001b[0m     \u001b[43mresult\u001b[49m\u001b[43m[\u001b[49m\u001b[43mrl\u001b[49m\u001b[38;5;241;43m.\u001b[39;49m\u001b[43mindexer\u001b[49m\u001b[43m]\u001b[49m \u001b[38;5;241m=\u001b[39m arr\n\u001b[0;32m   1754\u001b[0m     itemmask[rl\u001b[38;5;241m.\u001b[39mindexer] \u001b[38;5;241m=\u001b[39m \u001b[38;5;241m1\u001b[39m\n\u001b[0;32m   1756\u001b[0m \u001b[38;5;28;01mif\u001b[39;00m \u001b[38;5;129;01mnot\u001b[39;00m itemmask\u001b[38;5;241m.\u001b[39mall():\n",
      "\u001b[1;31mValueError\u001b[0m: could not convert string to float: 'M14860'"
     ]
    }
   ],
   "source": [
    "\"\"\"\n",
    "EDA 2.\n",
    "Korelasi antar Variabel \n",
    "   - Gunakan heatmap untuk melihat hubungan antar fitur numerik.  \n",
    "   - Tujuan: deteksi fitur redundan & yang paling berpengaruh pada kegagalan. \n",
    "\"\"\"\n",
    "sns.heatmap(df.corr(), annot=True, cmap='coolwarm')\n"
   ]
  },
  {
   "cell_type": "code",
   "execution_count": null,
   "id": "4c0cb65f-38b1-40d4-ab8f-e54ddd45b8b5",
   "metadata": {},
   "outputs": [],
   "source": []
  }
 ],
 "metadata": {
  "kernelspec": {
   "display_name": "Python (maint_pred)",
   "language": "python",
   "name": "maint_pred"
  },
  "language_info": {
   "codemirror_mode": {
    "name": "ipython",
    "version": 3
   },
   "file_extension": ".py",
   "mimetype": "text/x-python",
   "name": "python",
   "nbconvert_exporter": "python",
   "pygments_lexer": "ipython3",
   "version": "3.10.18"
  }
 },
 "nbformat": 4,
 "nbformat_minor": 5
}
